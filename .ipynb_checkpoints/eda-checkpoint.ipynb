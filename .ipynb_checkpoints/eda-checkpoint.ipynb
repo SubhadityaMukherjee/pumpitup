{
 "cells": [
  {
   "cell_type": "code",
   "execution_count": 72,
   "metadata": {
    "ExecuteTime": {
     "end_time": "2020-02-11T07:47:46.939979Z",
     "start_time": "2020-02-11T07:47:46.933316Z"
    }
   },
   "outputs": [],
   "source": [
    "from sklearn.datasets import make_classification\n",
    "from sklearn.ensemble import RandomForestClassifier\n",
    "from sklearn.model_selection import train_test_split\n",
    "from collections import Counter\n",
    "from sklearn.model_selection import train_test_split\n",
    "from sklearn.preprocessing import LabelEncoder\n",
    "import torch\n",
    "from torch.utils.data import Dataset, DataLoader\n",
    "import torch.optim as torch_optim\n",
    "import torch.nn as nn\n",
    "import torch.nn.functional as F\n",
    "from torchvision import models\n",
    "from datetime import datetime\n",
    "import pandas as pd\n",
    "import numpy as np"
   ]
  },
  {
   "cell_type": "code",
   "execution_count": 42,
   "metadata": {
    "ExecuteTime": {
     "end_time": "2020-02-11T07:42:23.637467Z",
     "start_time": "2020-02-11T07:42:23.626459Z"
    }
   },
   "outputs": [],
   "source": [
    "dropp = [\n",
    "    'region_code', 'district_code', 'lga', 'ward', 'gps_height', 'num_private',\n",
    "    'recorded_by', 'scheme_name', 'extraction_type_group', 'scheme_management',\n",
    "    'payment', 'extraction_type_class', 'quantity', 'waterpoint_type',\n",
    "    'wpt_name', 'source_type','amount_tsh'\n",
    "]\n",
    "cat_names = [\n",
    "    'funder', 'installer', 'basin', 'subvillage', 'region', 'public_meeting',\n",
    "    'management', 'permit', 'extraction_type', 'source', 'management_group',\n",
    "    'payment_type', 'water_quality', 'source_class','quality_group', 'quantity_group', 'waterpoint_type_group']"
   ]
  },
  {
   "cell_type": "code",
   "execution_count": 3,
   "metadata": {
    "ExecuteTime": {
     "end_time": "2020-02-11T07:32:53.787178Z",
     "start_time": "2020-02-11T07:32:53.781901Z"
    }
   },
   "outputs": [],
   "source": [
    "def date_to_diff(x):\n",
    "    x = int(x.split('-')[0])\n",
    "    if x == 0:\n",
    "        return 0\n",
    "    else:\n",
    "        return 2020 - x\n",
    "\n",
    "\n",
    "def date_to_diff2(x):\n",
    "    if x == 0:\n",
    "        return 0\n",
    "    else:\n",
    "        return 2020 - x\n",
    "\n",
    "\n",
    "def preproc_train(comb, dropp):\n",
    "    comb['years_cons'] = comb['construction_year'].apply(date_to_diff2)\n",
    "    comb = comb.drop('construction_year', axis=1)\n",
    "    comb = comb.drop(dropp, axis=1)\n",
    "    comb['years'] = comb['date_recorded'].apply(date_to_diff)\n",
    "    comb = comb.drop('date_recorded', axis=1)\n",
    "    comb.replace('#na#', np.nan)\n",
    "#     comb['scheme_management'][comb['scheme_management']=='None']=np.nan\n",
    "#     comb['scheme_name'] = comb['scheme_name'].str.lower()\n",
    "#     comb['scheme_name'][comb['scheme_name']=='none'] = np.nan\n",
    "    comb['management'][comb['management']=='unknown'] = 'other'\n",
    "    comb['management_group'][comb['management_group']=='unknown'] = 'other'\n",
    "    comb['payment_type'][comb['payment_type']=='unknown'] = 'other'\n",
    "    comb['source'][comb['source']=='unknown'] = 'other'\n",
    "    \n",
    "    \n",
    "    \n",
    "    return comb"
   ]
  },
  {
   "cell_type": "code",
   "execution_count": 50,
   "metadata": {
    "ExecuteTime": {
     "end_time": "2020-02-11T07:45:03.808564Z",
     "start_time": "2020-02-11T07:45:03.563115Z"
    }
   },
   "outputs": [],
   "source": [
    "data_m = pd.read_csv('data/train.csv')\n",
    "train_labels = pd.read_csv('data/trainLabels.csv')"
   ]
  },
  {
   "cell_type": "code",
   "execution_count": 51,
   "metadata": {
    "ExecuteTime": {
     "end_time": "2020-02-11T07:45:03.946120Z",
     "start_time": "2020-02-11T07:45:03.810138Z"
    }
   },
   "outputs": [],
   "source": [
    "data_m = pd.merge(data_m, train_labels, on='id')\n",
    "data_m = data_m.drop('id', axis=1)"
   ]
  },
  {
   "cell_type": "code",
   "execution_count": 52,
   "metadata": {
    "ExecuteTime": {
     "end_time": "2020-02-11T07:45:03.949171Z",
     "start_time": "2020-02-11T07:45:03.947278Z"
    }
   },
   "outputs": [],
   "source": [
    "valid_idx = list(range(300, 400))"
   ]
  },
  {
   "cell_type": "code",
   "execution_count": 53,
   "metadata": {
    "ExecuteTime": {
     "end_time": "2020-02-11T07:45:04.093596Z",
     "start_time": "2020-02-11T07:45:03.950342Z"
    }
   },
   "outputs": [
    {
     "name": "stderr",
     "output_type": "stream",
     "text": [
      "/home/subhaditya/.virtualenvs/mainDL/lib/python3.6/site-packages/ipykernel_launcher.py:26: SettingWithCopyWarning: \n",
      "A value is trying to be set on a copy of a slice from a DataFrame\n",
      "\n",
      "See the caveats in the documentation: https://pandas.pydata.org/pandas-docs/stable/user_guide/indexing.html#returning-a-view-versus-a-copy\n",
      "/home/subhaditya/.virtualenvs/mainDL/lib/python3.6/site-packages/ipykernel_launcher.py:27: SettingWithCopyWarning: \n",
      "A value is trying to be set on a copy of a slice from a DataFrame\n",
      "\n",
      "See the caveats in the documentation: https://pandas.pydata.org/pandas-docs/stable/user_guide/indexing.html#returning-a-view-versus-a-copy\n",
      "/home/subhaditya/.virtualenvs/mainDL/lib/python3.6/site-packages/ipykernel_launcher.py:28: SettingWithCopyWarning: \n",
      "A value is trying to be set on a copy of a slice from a DataFrame\n",
      "\n",
      "See the caveats in the documentation: https://pandas.pydata.org/pandas-docs/stable/user_guide/indexing.html#returning-a-view-versus-a-copy\n",
      "/home/subhaditya/.virtualenvs/mainDL/lib/python3.6/site-packages/ipykernel_launcher.py:29: SettingWithCopyWarning: \n",
      "A value is trying to be set on a copy of a slice from a DataFrame\n",
      "\n",
      "See the caveats in the documentation: https://pandas.pydata.org/pandas-docs/stable/user_guide/indexing.html#returning-a-view-versus-a-copy\n"
     ]
    },
    {
     "data": {
      "text/html": [
       "<div>\n",
       "<style scoped>\n",
       "    .dataframe tbody tr th:only-of-type {\n",
       "        vertical-align: middle;\n",
       "    }\n",
       "\n",
       "    .dataframe tbody tr th {\n",
       "        vertical-align: top;\n",
       "    }\n",
       "\n",
       "    .dataframe thead th {\n",
       "        text-align: right;\n",
       "    }\n",
       "</style>\n",
       "<table border=\"1\" class=\"dataframe\">\n",
       "  <thead>\n",
       "    <tr style=\"text-align: right;\">\n",
       "      <th></th>\n",
       "      <th>funder</th>\n",
       "      <th>installer</th>\n",
       "      <th>longitude</th>\n",
       "      <th>latitude</th>\n",
       "      <th>basin</th>\n",
       "      <th>subvillage</th>\n",
       "      <th>region</th>\n",
       "      <th>population</th>\n",
       "      <th>public_meeting</th>\n",
       "      <th>permit</th>\n",
       "      <th>...</th>\n",
       "      <th>payment_type</th>\n",
       "      <th>water_quality</th>\n",
       "      <th>quality_group</th>\n",
       "      <th>quantity_group</th>\n",
       "      <th>source</th>\n",
       "      <th>source_class</th>\n",
       "      <th>waterpoint_type_group</th>\n",
       "      <th>status_group</th>\n",
       "      <th>years_cons</th>\n",
       "      <th>years</th>\n",
       "    </tr>\n",
       "  </thead>\n",
       "  <tbody>\n",
       "    <tr>\n",
       "      <th>0</th>\n",
       "      <td>Roman</td>\n",
       "      <td>Roman</td>\n",
       "      <td>34.938093</td>\n",
       "      <td>-9.856322</td>\n",
       "      <td>Lake Nyasa</td>\n",
       "      <td>Mnyusi B</td>\n",
       "      <td>Iringa</td>\n",
       "      <td>109</td>\n",
       "      <td>True</td>\n",
       "      <td>False</td>\n",
       "      <td>...</td>\n",
       "      <td>annually</td>\n",
       "      <td>soft</td>\n",
       "      <td>good</td>\n",
       "      <td>enough</td>\n",
       "      <td>spring</td>\n",
       "      <td>groundwater</td>\n",
       "      <td>communal standpipe</td>\n",
       "      <td>functional</td>\n",
       "      <td>21</td>\n",
       "      <td>9</td>\n",
       "    </tr>\n",
       "    <tr>\n",
       "      <th>1</th>\n",
       "      <td>Grumeti</td>\n",
       "      <td>GRUMETI</td>\n",
       "      <td>34.698766</td>\n",
       "      <td>-2.147466</td>\n",
       "      <td>Lake Victoria</td>\n",
       "      <td>Nyamara</td>\n",
       "      <td>Mara</td>\n",
       "      <td>280</td>\n",
       "      <td>NaN</td>\n",
       "      <td>True</td>\n",
       "      <td>...</td>\n",
       "      <td>never pay</td>\n",
       "      <td>soft</td>\n",
       "      <td>good</td>\n",
       "      <td>insufficient</td>\n",
       "      <td>rainwater harvesting</td>\n",
       "      <td>surface</td>\n",
       "      <td>communal standpipe</td>\n",
       "      <td>functional</td>\n",
       "      <td>10</td>\n",
       "      <td>7</td>\n",
       "    </tr>\n",
       "    <tr>\n",
       "      <th>2</th>\n",
       "      <td>Lottery Club</td>\n",
       "      <td>World vision</td>\n",
       "      <td>37.460664</td>\n",
       "      <td>-3.821329</td>\n",
       "      <td>Pangani</td>\n",
       "      <td>Majengo</td>\n",
       "      <td>Manyara</td>\n",
       "      <td>250</td>\n",
       "      <td>True</td>\n",
       "      <td>True</td>\n",
       "      <td>...</td>\n",
       "      <td>per bucket</td>\n",
       "      <td>soft</td>\n",
       "      <td>good</td>\n",
       "      <td>enough</td>\n",
       "      <td>dam</td>\n",
       "      <td>surface</td>\n",
       "      <td>communal standpipe</td>\n",
       "      <td>functional</td>\n",
       "      <td>11</td>\n",
       "      <td>7</td>\n",
       "    </tr>\n",
       "    <tr>\n",
       "      <th>3</th>\n",
       "      <td>Unicef</td>\n",
       "      <td>UNICEF</td>\n",
       "      <td>38.486161</td>\n",
       "      <td>-11.155298</td>\n",
       "      <td>Ruvuma / Southern Coast</td>\n",
       "      <td>Mahakamani</td>\n",
       "      <td>Mtwara</td>\n",
       "      <td>58</td>\n",
       "      <td>True</td>\n",
       "      <td>True</td>\n",
       "      <td>...</td>\n",
       "      <td>never pay</td>\n",
       "      <td>soft</td>\n",
       "      <td>good</td>\n",
       "      <td>dry</td>\n",
       "      <td>machine dbh</td>\n",
       "      <td>groundwater</td>\n",
       "      <td>communal standpipe</td>\n",
       "      <td>non functional</td>\n",
       "      <td>34</td>\n",
       "      <td>7</td>\n",
       "    </tr>\n",
       "    <tr>\n",
       "      <th>4</th>\n",
       "      <td>Action In A</td>\n",
       "      <td>Artisan</td>\n",
       "      <td>31.130847</td>\n",
       "      <td>-1.825359</td>\n",
       "      <td>Lake Victoria</td>\n",
       "      <td>Kyanyamisa</td>\n",
       "      <td>Kagera</td>\n",
       "      <td>0</td>\n",
       "      <td>True</td>\n",
       "      <td>True</td>\n",
       "      <td>...</td>\n",
       "      <td>never pay</td>\n",
       "      <td>soft</td>\n",
       "      <td>good</td>\n",
       "      <td>seasonal</td>\n",
       "      <td>rainwater harvesting</td>\n",
       "      <td>surface</td>\n",
       "      <td>communal standpipe</td>\n",
       "      <td>functional</td>\n",
       "      <td>0</td>\n",
       "      <td>9</td>\n",
       "    </tr>\n",
       "  </tbody>\n",
       "</table>\n",
       "<p>5 rows × 23 columns</p>\n",
       "</div>"
      ],
      "text/plain": [
       "         funder     installer  longitude   latitude                    basin  \\\n",
       "0         Roman         Roman  34.938093  -9.856322               Lake Nyasa   \n",
       "1       Grumeti       GRUMETI  34.698766  -2.147466            Lake Victoria   \n",
       "2  Lottery Club  World vision  37.460664  -3.821329                  Pangani   \n",
       "3        Unicef        UNICEF  38.486161 -11.155298  Ruvuma / Southern Coast   \n",
       "4   Action In A       Artisan  31.130847  -1.825359            Lake Victoria   \n",
       "\n",
       "   subvillage   region  population public_meeting permit  ... payment_type  \\\n",
       "0    Mnyusi B   Iringa         109           True  False  ...     annually   \n",
       "1     Nyamara     Mara         280            NaN   True  ...    never pay   \n",
       "2     Majengo  Manyara         250           True   True  ...   per bucket   \n",
       "3  Mahakamani   Mtwara          58           True   True  ...    never pay   \n",
       "4  Kyanyamisa   Kagera           0           True   True  ...    never pay   \n",
       "\n",
       "  water_quality quality_group quantity_group                source  \\\n",
       "0          soft          good         enough                spring   \n",
       "1          soft          good   insufficient  rainwater harvesting   \n",
       "2          soft          good         enough                   dam   \n",
       "3          soft          good            dry           machine dbh   \n",
       "4          soft          good       seasonal  rainwater harvesting   \n",
       "\n",
       "  source_class waterpoint_type_group    status_group years_cons years  \n",
       "0  groundwater    communal standpipe      functional         21     9  \n",
       "1      surface    communal standpipe      functional         10     7  \n",
       "2      surface    communal standpipe      functional         11     7  \n",
       "3  groundwater    communal standpipe  non functional         34     7  \n",
       "4      surface    communal standpipe      functional          0     9  \n",
       "\n",
       "[5 rows x 23 columns]"
      ]
     },
     "execution_count": 53,
     "metadata": {},
     "output_type": "execute_result"
    }
   ],
   "source": [
    "data_m = preproc_train(data_m, dropp)\n",
    "data_m.head()"
   ]
  },
  {
   "cell_type": "code",
   "execution_count": 54,
   "metadata": {
    "ExecuteTime": {
     "end_time": "2020-02-11T07:45:04.130945Z",
     "start_time": "2020-02-11T07:45:04.094611Z"
    }
   },
   "outputs": [],
   "source": [
    "data_m = data_m.replace(np.nan, '')"
   ]
  },
  {
   "cell_type": "code",
   "execution_count": 55,
   "metadata": {
    "ExecuteTime": {
     "end_time": "2020-02-11T07:45:04.147624Z",
     "start_time": "2020-02-11T07:45:04.132191Z"
    }
   },
   "outputs": [],
   "source": [
    "from sklearn.model_selection import train_test_split\n",
    "from sklearn import preprocessing"
   ]
  },
  {
   "cell_type": "code",
   "execution_count": 56,
   "metadata": {
    "ExecuteTime": {
     "end_time": "2020-02-11T07:45:04.218286Z",
     "start_time": "2020-02-11T07:45:04.148619Z"
    },
    "scrolled": true
   },
   "outputs": [],
   "source": [
    "for a in cat_names:\n",
    "    try:\n",
    "        data_m[a] = data_m[a].astype('category')\n",
    "    except Exception as r:\n",
    "        print(r)"
   ]
  },
  {
   "cell_type": "code",
   "execution_count": 57,
   "metadata": {
    "ExecuteTime": {
     "end_time": "2020-02-11T07:45:04.223369Z",
     "start_time": "2020-02-11T07:45:04.219821Z"
    }
   },
   "outputs": [],
   "source": [
    "X = data_m.drop('status_group', axis=1)\n",
    "Y = data_m['status_group']"
   ]
  },
  {
   "cell_type": "code",
   "execution_count": 58,
   "metadata": {
    "ExecuteTime": {
     "end_time": "2020-02-11T07:45:04.248355Z",
     "start_time": "2020-02-11T07:45:04.224493Z"
    }
   },
   "outputs": [],
   "source": [
    "Y = LabelEncoder().fit_transform(Y)"
   ]
  },
  {
   "cell_type": "code",
   "execution_count": 59,
   "metadata": {
    "ExecuteTime": {
     "end_time": "2020-02-11T07:45:04.263850Z",
     "start_time": "2020-02-11T07:45:04.249381Z"
    },
    "scrolled": true
   },
   "outputs": [
    {
     "name": "stdout",
     "output_type": "stream",
     "text": [
      "Counter({'functional': 32259, 'non functional': 22824, 'functional needs repair': 4317})\n"
     ]
    }
   ],
   "source": [
    "print(Counter(data_m['status_group']))"
   ]
  },
  {
   "cell_type": "code",
   "execution_count": 60,
   "metadata": {
    "ExecuteTime": {
     "end_time": "2020-02-11T07:45:04.282302Z",
     "start_time": "2020-02-11T07:45:04.264869Z"
    }
   },
   "outputs": [
    {
     "name": "stdout",
     "output_type": "stream",
     "text": [
      "Counter({0: 32259, 2: 22824, 1: 4317})\n"
     ]
    }
   ],
   "source": [
    "print(Counter(Y))"
   ]
  },
  {
   "cell_type": "code",
   "execution_count": 61,
   "metadata": {
    "ExecuteTime": {
     "end_time": "2020-02-11T07:45:04.694986Z",
     "start_time": "2020-02-11T07:45:04.283298Z"
    }
   },
   "outputs": [],
   "source": [
    "for a in cat_names:\n",
    "    try:\n",
    "        X[a] =X[a].astype('str').str.lower().astype('category')\n",
    "    except:\n",
    "        pass"
   ]
  },
  {
   "cell_type": "code",
   "execution_count": 62,
   "metadata": {
    "ExecuteTime": {
     "end_time": "2020-02-11T07:45:04.698255Z",
     "start_time": "2020-02-11T07:45:04.695952Z"
    },
    "scrolled": true
   },
   "outputs": [
    {
     "name": "stdout",
     "output_type": "stream",
     "text": [
      "Counter({'funder': 1, 'installer': 1, 'longitude': 1, 'latitude': 1, 'basin': 1, 'subvillage': 1, 'region': 1, 'population': 1, 'public_meeting': 1, 'permit': 1, 'extraction_type': 1, 'management': 1, 'management_group': 1, 'payment_type': 1, 'water_quality': 1, 'quality_group': 1, 'quantity_group': 1, 'source': 1, 'source_class': 1, 'waterpoint_type_group': 1, 'years_cons': 1, 'years': 1})\n"
     ]
    }
   ],
   "source": [
    "print(Counter(X))"
   ]
  },
  {
   "cell_type": "code",
   "execution_count": 66,
   "metadata": {
    "ExecuteTime": {
     "end_time": "2020-02-11T07:46:38.789092Z",
     "start_time": "2020-02-11T07:46:38.784108Z"
    },
    "scrolled": true
   },
   "outputs": [],
   "source": [
    "embedded_cols = {}"
   ]
  },
  {
   "cell_type": "code",
   "execution_count": 67,
   "metadata": {
    "ExecuteTime": {
     "end_time": "2020-02-11T07:46:39.766778Z",
     "start_time": "2020-02-11T07:46:39.760459Z"
    }
   },
   "outputs": [],
   "source": [
    "for a in cat_names:\n",
    "    embedded_cols[a] = len(X[a].cat.categories)"
   ]
  },
  {
   "cell_type": "code",
   "execution_count": 69,
   "metadata": {
    "ExecuteTime": {
     "end_time": "2020-02-11T07:46:43.933357Z",
     "start_time": "2020-02-11T07:46:43.930331Z"
    }
   },
   "outputs": [
    {
     "data": {
      "text/plain": [
       "{'funder': 1898,\n",
       " 'installer': 1936,\n",
       " 'basin': 9,\n",
       " 'subvillage': 19288,\n",
       " 'region': 21,\n",
       " 'public_meeting': 3,\n",
       " 'management': 11,\n",
       " 'permit': 3,\n",
       " 'extraction_type': 18,\n",
       " 'source': 9,\n",
       " 'management_group': 4,\n",
       " 'payment_type': 6,\n",
       " 'water_quality': 8,\n",
       " 'source_class': 3,\n",
       " 'quality_group': 6,\n",
       " 'quantity_group': 5,\n",
       " 'waterpoint_type_group': 6}"
      ]
     },
     "execution_count": 69,
     "metadata": {},
     "output_type": "execute_result"
    }
   ],
   "source": [
    "embedded_cols"
   ]
  },
  {
   "cell_type": "code",
   "execution_count": 70,
   "metadata": {
    "ExecuteTime": {
     "end_time": "2020-02-11T07:46:57.729658Z",
     "start_time": "2020-02-11T07:46:57.727469Z"
    }
   },
   "outputs": [],
   "source": [
    "embedded_col_names = embedded_cols.keys()"
   ]
  },
  {
   "cell_type": "code",
   "execution_count": 71,
   "metadata": {
    "ExecuteTime": {
     "end_time": "2020-02-11T07:47:14.558482Z",
     "start_time": "2020-02-11T07:47:14.554690Z"
    }
   },
   "outputs": [
    {
     "data": {
      "text/plain": [
       "[(1898, 50),\n",
       " (1936, 50),\n",
       " (9, 5),\n",
       " (19288, 50),\n",
       " (21, 11),\n",
       " (3, 2),\n",
       " (11, 6),\n",
       " (3, 2),\n",
       " (18, 9),\n",
       " (9, 5),\n",
       " (4, 2),\n",
       " (6, 3),\n",
       " (8, 4),\n",
       " (3, 2),\n",
       " (6, 3),\n",
       " (5, 3),\n",
       " (6, 3)]"
      ]
     },
     "execution_count": 71,
     "metadata": {},
     "output_type": "execute_result"
    }
   ],
   "source": [
    "embedding_sizes = [(n_categories, min(50, (n_categories+1)//2)) for _,n_categories in embedded_cols.items()]\n",
    "embedding_sizes"
   ]
  },
  {
   "cell_type": "code",
   "execution_count": 79,
   "metadata": {
    "ExecuteTime": {
     "end_time": "2020-02-11T07:53:06.417762Z",
     "start_time": "2020-02-11T07:53:06.289785Z"
    }
   },
   "outputs": [],
   "source": [
    "for a in cat_names:\n",
    "    X[a] = LabelEncoder().fit_transform(X[a])"
   ]
  },
  {
   "cell_type": "code",
   "execution_count": 80,
   "metadata": {
    "ExecuteTime": {
     "end_time": "2020-02-11T07:53:07.758044Z",
     "start_time": "2020-02-11T07:53:07.076099Z"
    }
   },
   "outputs": [],
   "source": [
    "X_train, X_test, Y_train, Y_test = train_test_split(X,\n",
    "                                                    Y,\n",
    "                                                    test_size=0.3)"
   ]
  },
  {
   "cell_type": "code",
   "execution_count": 82,
   "metadata": {
    "ExecuteTime": {
     "end_time": "2020-02-11T07:53:17.823082Z",
     "start_time": "2020-02-11T07:53:17.819280Z"
    }
   },
   "outputs": [],
   "source": [
    "class WaterPump(Dataset):\n",
    "    def __init__(self, X, Y, embedded_col_names):\n",
    "        X = X.copy()\n",
    "        self.X1 = X.loc[:,embedded_col_names].copy().values.astype(np.int64) \n",
    "        self.X2 = X.drop(columns=embedded_col_names).copy().values.astype(np.float32)\n",
    "        self.y = Y\n",
    "        \n",
    "    def __len__(self):\n",
    "        return len(self.y)\n",
    "    \n",
    "    def __getitem__(self, idx):\n",
    "        return self.X1[idx], self.X2[idx], self.y[idx]"
   ]
  },
  {
   "cell_type": "code",
   "execution_count": 83,
   "metadata": {
    "ExecuteTime": {
     "end_time": "2020-02-11T07:53:19.920010Z",
     "start_time": "2020-02-11T07:53:19.002705Z"
    }
   },
   "outputs": [],
   "source": [
    "train_ds = WaterPump(X_train, Y_train, embedded_col_names)\n",
    "valid_ds = WaterPump(X_test, Y_test, embedded_col_names)"
   ]
  },
  {
   "cell_type": "code",
   "execution_count": 98,
   "metadata": {
    "ExecuteTime": {
     "end_time": "2020-02-11T07:56:17.496328Z",
     "start_time": "2020-02-11T07:56:17.493695Z"
    }
   },
   "outputs": [],
   "source": [
    "def to_device(data,device):\n",
    "    device = 'cuda'\n",
    "    if isinstance(data, (list,tuple)):\n",
    "        return [to_device(x, device) for x in data]\n",
    "    return data.to(device, non_blocking=True)"
   ]
  },
  {
   "cell_type": "code",
   "execution_count": 114,
   "metadata": {
    "ExecuteTime": {
     "end_time": "2020-02-11T08:02:06.461418Z",
     "start_time": "2020-02-11T08:02:06.458311Z"
    }
   },
   "outputs": [],
   "source": [
    "class DeviceDataLoader():\n",
    "    def __init__(self, dl, device):\n",
    "        self.dl = dl\n",
    "        self.device = device\n",
    "\n",
    "    def __iter__(self):\n",
    "\n",
    "        for b in self.dl:\n",
    "            yield to_device(b, self.device)\n",
    "\n",
    "    def __len__(self):\n",
    "        return len(self.dl)"
   ]
  },
  {
   "cell_type": "code",
   "execution_count": 124,
   "metadata": {
    "ExecuteTime": {
     "end_time": "2020-02-11T08:02:51.105058Z",
     "start_time": "2020-02-11T08:02:51.095211Z"
    }
   },
   "outputs": [],
   "source": [
    "class ShelterOutcomeModel(nn.Module):\n",
    "    def __init__(self, embedding_sizes, n_cont):\n",
    "        super().__init__()\n",
    "        self.embeddings = nn.ModuleList([nn.Embedding(categories, size) for categories,size in embedding_sizes])\n",
    "        n_emb = sum(e.embedding_dim for e in self.embeddings) #length of all embeddings combined\n",
    "        self.n_emb, self.n_cont = n_emb, n_cont\n",
    "        self.lin1 = nn.Linear(self.n_emb + self.n_cont, 200)\n",
    "        self.lin2 = nn.Linear(200, 70)\n",
    "        self.lin3 = nn.Linear(70, 5)\n",
    "        self.bn1 = nn.BatchNorm1d(self.n_cont)\n",
    "        self.bn2 = nn.BatchNorm1d(200)\n",
    "        self.bn3 = nn.BatchNorm1d(70)\n",
    "        self.emb_drop = nn.Dropout(0.6)\n",
    "        self.drops = nn.Dropout(0.3)\n",
    "        \n",
    "\n",
    "    def forward(self, x_cat, x_cont):\n",
    "        x = [e(x_cat[:,i]) for i,e in enumerate(self.embeddings)]\n",
    "        x = torch.cat(x, 1)\n",
    "        x = self.emb_drop(x)\n",
    "        x2 = self.bn1(x_cont)\n",
    "        x = torch.cat([x, x2], 1)\n",
    "        x = F.relu(self.lin1(x))\n",
    "        x = self.drops(x)\n",
    "        x = self.bn2(x)\n",
    "        x = F.relu(self.lin2(x))\n",
    "        x = self.drops(x)\n",
    "        x = self.bn3(x)\n",
    "        x = self.lin3(x)\n",
    "        return x"
   ]
  },
  {
   "cell_type": "code",
   "execution_count": 125,
   "metadata": {
    "ExecuteTime": {
     "end_time": "2020-02-11T08:02:51.142947Z",
     "start_time": "2020-02-11T08:02:51.106490Z"
    },
    "scrolled": true
   },
   "outputs": [
    {
     "data": {
      "text/plain": [
       "ShelterOutcomeModel(\n",
       "  (embeddings): ModuleList(\n",
       "    (0): Embedding(1898, 50)\n",
       "    (1): Embedding(1936, 50)\n",
       "    (2): Embedding(9, 5)\n",
       "    (3): Embedding(19288, 50)\n",
       "    (4): Embedding(21, 11)\n",
       "    (5): Embedding(3, 2)\n",
       "    (6): Embedding(11, 6)\n",
       "    (7): Embedding(3, 2)\n",
       "    (8): Embedding(18, 9)\n",
       "    (9): Embedding(9, 5)\n",
       "    (10): Embedding(4, 2)\n",
       "    (11): Embedding(6, 3)\n",
       "    (12): Embedding(8, 4)\n",
       "    (13): Embedding(3, 2)\n",
       "    (14): Embedding(6, 3)\n",
       "    (15): Embedding(5, 3)\n",
       "    (16): Embedding(6, 3)\n",
       "  )\n",
       "  (lin1): Linear(in_features=215, out_features=200, bias=True)\n",
       "  (lin2): Linear(in_features=200, out_features=70, bias=True)\n",
       "  (lin3): Linear(in_features=70, out_features=5, bias=True)\n",
       "  (bn1): BatchNorm1d(5, eps=1e-05, momentum=0.1, affine=True, track_running_stats=True)\n",
       "  (bn2): BatchNorm1d(200, eps=1e-05, momentum=0.1, affine=True, track_running_stats=True)\n",
       "  (bn3): BatchNorm1d(70, eps=1e-05, momentum=0.1, affine=True, track_running_stats=True)\n",
       "  (emb_drop): Dropout(p=0.6, inplace=False)\n",
       "  (drops): Dropout(p=0.3, inplace=False)\n",
       ")"
      ]
     },
     "execution_count": 125,
     "metadata": {},
     "output_type": "execute_result"
    }
   ],
   "source": [
    "model = ShelterOutcomeModel(embedding_sizes, 5)\n",
    "to_device(model,'cuda')\n"
   ]
  },
  {
   "cell_type": "code",
   "execution_count": 126,
   "metadata": {
    "ExecuteTime": {
     "end_time": "2020-02-11T08:02:51.146980Z",
     "start_time": "2020-02-11T08:02:51.144316Z"
    }
   },
   "outputs": [],
   "source": [
    "def get_optimizer(model, lr = 0.001, wd = 0.0):\n",
    "    parameters = filter(lambda p: p.requires_grad, model.parameters())\n",
    "    optim = torch_optim.Adam(parameters, lr=lr, weight_decay=wd)\n",
    "    return optim"
   ]
  },
  {
   "cell_type": "code",
   "execution_count": 127,
   "metadata": {
    "ExecuteTime": {
     "end_time": "2020-02-11T08:02:51.158403Z",
     "start_time": "2020-02-11T08:02:51.148701Z"
    }
   },
   "outputs": [],
   "source": [
    "def train_model(model, optim, train_dl):\n",
    "    model.train()\n",
    "    total = 0\n",
    "    sum_loss = 0\n",
    "    for x1, x2, y in train_dl:\n",
    "        batch = y.shape[0]\n",
    "        output = model(x1, x2)\n",
    "        loss = F.cross_entropy(output, y)   \n",
    "        optim.zero_grad()\n",
    "        loss.backward()\n",
    "        optim.step()\n",
    "        total += batch\n",
    "        sum_loss += batch*(loss.item())\n",
    "    return sum_loss/total"
   ]
  },
  {
   "cell_type": "code",
   "execution_count": 128,
   "metadata": {
    "ExecuteTime": {
     "end_time": "2020-02-11T08:02:51.169557Z",
     "start_time": "2020-02-11T08:02:51.159802Z"
    }
   },
   "outputs": [],
   "source": [
    "def val_loss(model, valid_dl):\n",
    "    model.eval()\n",
    "    total = 0\n",
    "    sum_loss = 0\n",
    "    correct = 0\n",
    "    for x1, x2, y in valid_dl:\n",
    "        current_batch_size = y.shape[0]\n",
    "        out = model(x1, x2)\n",
    "        loss = F.cross_entropy(out, y)\n",
    "        sum_loss += current_batch_size*(loss.item())\n",
    "        total += current_batch_size\n",
    "        pred = torch.max(out, 1)[1]\n",
    "        correct += (pred == y).float().sum().item()\n",
    "    print(\"valid loss %.3f and accuracy %.3f\" % (sum_loss/total, correct/total))\n",
    "    return sum_loss/total, correct/total"
   ]
  },
  {
   "cell_type": "code",
   "execution_count": 129,
   "metadata": {
    "ExecuteTime": {
     "end_time": "2020-02-11T08:02:51.184002Z",
     "start_time": "2020-02-11T08:02:51.170925Z"
    }
   },
   "outputs": [],
   "source": [
    "def train_loop(model, epochs, lr=0.01, wd=0.0):\n",
    "    optim = get_optimizer(model, lr = lr, wd = wd)\n",
    "    for i in range(epochs): \n",
    "        loss = train_model(model, optim, train_dl)\n",
    "        print(\"training loss: \", loss)\n",
    "        val_loss(model, valid_dl)"
   ]
  },
  {
   "cell_type": "code",
   "execution_count": 130,
   "metadata": {
    "ExecuteTime": {
     "end_time": "2020-02-11T08:02:51.231236Z",
     "start_time": "2020-02-11T08:02:51.185287Z"
    }
   },
   "outputs": [],
   "source": [
    "batch_size = 1000\n",
    "train_dl = DataLoader(train_ds, batch_size=batch_size,shuffle=True)\n",
    "valid_dl = DataLoader(valid_ds, batch_size=batch_size,shuffle=True)"
   ]
  },
  {
   "cell_type": "code",
   "execution_count": 131,
   "metadata": {
    "ExecuteTime": {
     "end_time": "2020-02-11T08:02:51.241888Z",
     "start_time": "2020-02-11T08:02:51.232629Z"
    }
   },
   "outputs": [],
   "source": [
    "train_dl = DeviceDataLoader(train_dl, 'cuda')\n",
    "valid_dl = DeviceDataLoader(valid_dl, 'cuda')"
   ]
  },
  {
   "cell_type": "code",
   "execution_count": 133,
   "metadata": {
    "ExecuteTime": {
     "end_time": "2020-02-11T08:04:49.997784Z",
     "start_time": "2020-02-11T08:03:29.093972Z"
    },
    "scrolled": true
   },
   "outputs": [
    {
     "name": "stdout",
     "output_type": "stream",
     "text": [
      "training loss:  0.44291784763049485\n",
      "valid loss 0.686 and accuracy 0.744\n",
      "training loss:  0.4357098755984423\n",
      "valid loss 0.686 and accuracy 0.744\n",
      "training loss:  0.4339754222934782\n",
      "valid loss 0.687 and accuracy 0.744\n",
      "training loss:  0.4317427960767833\n",
      "valid loss 0.689 and accuracy 0.744\n",
      "training loss:  0.421049037207314\n",
      "valid loss 0.700 and accuracy 0.743\n",
      "training loss:  0.4207352057221189\n",
      "valid loss 0.705 and accuracy 0.745\n",
      "training loss:  0.4206175404193597\n",
      "valid loss 0.705 and accuracy 0.745\n",
      "training loss:  0.41905814052316187\n",
      "valid loss 0.712 and accuracy 0.745\n",
      "training loss:  0.4094639419505893\n",
      "valid loss 0.721 and accuracy 0.747\n",
      "training loss:  0.40594367329577746\n",
      "valid loss 0.725 and accuracy 0.746\n",
      "training loss:  0.4044188412695679\n",
      "valid loss 0.727 and accuracy 0.746\n",
      "training loss:  0.40485475353176287\n",
      "valid loss 0.726 and accuracy 0.748\n",
      "training loss:  0.3976745098872274\n",
      "valid loss 0.738 and accuracy 0.746\n",
      "training loss:  0.39406305703479205\n",
      "valid loss 0.750 and accuracy 0.747\n",
      "training loss:  0.3925987012745269\n",
      "valid loss 0.750 and accuracy 0.748\n",
      "training loss:  0.3874919446917209\n",
      "valid loss 0.756 and accuracy 0.748\n",
      "training loss:  0.3845598514031882\n",
      "valid loss 0.764 and accuracy 0.748\n",
      "training loss:  0.38376844002398924\n",
      "valid loss 0.767 and accuracy 0.749\n",
      "training loss:  0.38024539245671524\n",
      "valid loss 0.769 and accuracy 0.748\n",
      "training loss:  0.3775025609595779\n",
      "valid loss 0.787 and accuracy 0.748\n",
      "training loss:  0.37454156528131616\n",
      "valid loss 0.784 and accuracy 0.747\n",
      "training loss:  0.37207954048307657\n",
      "valid loss 0.807 and accuracy 0.748\n",
      "training loss:  0.36818215486061806\n",
      "valid loss 0.805 and accuracy 0.749\n",
      "training loss:  0.36618751928231763\n",
      "valid loss 0.820 and accuracy 0.749\n",
      "training loss:  0.3635855644095569\n",
      "valid loss 0.819 and accuracy 0.749\n",
      "training loss:  0.35929102676026003\n",
      "valid loss 0.844 and accuracy 0.749\n",
      "training loss:  0.3547082085658748\n",
      "valid loss 0.844 and accuracy 0.749\n",
      "training loss:  0.35428995111918665\n",
      "valid loss 0.848 and accuracy 0.748\n",
      "training loss:  0.3535507574655965\n",
      "valid loss 0.850 and accuracy 0.752\n",
      "training loss:  0.35283436443783905\n",
      "valid loss 0.861 and accuracy 0.749\n",
      "training loss:  0.3465602389604441\n",
      "valid loss 0.879 and accuracy 0.751\n",
      "training loss:  0.3487275979477606\n",
      "valid loss 0.864 and accuracy 0.751\n",
      "training loss:  0.34753453031992215\n",
      "valid loss 0.878 and accuracy 0.751\n",
      "training loss:  0.33927157238849714\n",
      "valid loss 0.900 and accuracy 0.749\n",
      "training loss:  0.3400472406873111\n",
      "valid loss 0.895 and accuracy 0.749\n",
      "training loss:  0.3398754153904174\n",
      "valid loss 0.893 and accuracy 0.750\n",
      "training loss:  0.33659007246532135\n",
      "valid loss 0.913 and accuracy 0.748\n",
      "training loss:  0.3345470168431141\n",
      "valid loss 0.922 and accuracy 0.750\n",
      "training loss:  0.33023649186053605\n",
      "valid loss 0.921 and accuracy 0.751\n",
      "training loss:  0.3374809526720547\n",
      "valid loss 0.933 and accuracy 0.750\n",
      "training loss:  0.33040745753459827\n",
      "valid loss 0.956 and accuracy 0.752\n",
      "training loss:  0.3278774176726495\n",
      "valid loss 0.938 and accuracy 0.751\n",
      "training loss:  0.3268295391612812\n",
      "valid loss 0.960 and accuracy 0.749\n",
      "training loss:  0.328243532164731\n",
      "valid loss 0.949 and accuracy 0.750\n",
      "training loss:  0.32215629967432174\n",
      "valid loss 0.971 and accuracy 0.750\n",
      "training loss:  0.3230756914288795\n",
      "valid loss 0.980 and accuracy 0.749\n",
      "training loss:  0.3250526890065476\n",
      "valid loss 0.984 and accuracy 0.751\n",
      "training loss:  0.32024523760619905\n",
      "valid loss 0.995 and accuracy 0.749\n",
      "training loss:  0.31885088027641717\n",
      "valid loss 1.009 and accuracy 0.749\n",
      "training loss:  0.31726123648460464\n",
      "valid loss 1.035 and accuracy 0.749\n",
      "training loss:  0.32022869287344513\n",
      "valid loss 1.018 and accuracy 0.750\n",
      "training loss:  0.31524597635172835\n",
      "valid loss 1.018 and accuracy 0.750\n",
      "training loss:  0.31585566826368994\n",
      "valid loss 1.000 and accuracy 0.749\n",
      "training loss:  0.312483935931831\n",
      "valid loss 1.025 and accuracy 0.748\n",
      "training loss:  0.31597031417117777\n",
      "valid loss 1.040 and accuracy 0.750\n",
      "training loss:  0.3118047397144716\n",
      "valid loss 1.045 and accuracy 0.750\n",
      "training loss:  0.3118488466642177\n",
      "valid loss 1.040 and accuracy 0.748\n",
      "training loss:  0.3117184765984543\n",
      "valid loss 1.040 and accuracy 0.750\n",
      "training loss:  0.30906414852341874\n",
      "valid loss 1.048 and accuracy 0.749\n",
      "training loss:  0.3096057367101204\n",
      "valid loss 1.071 and accuracy 0.749\n",
      "training loss:  0.3082440487750165\n",
      "valid loss 1.053 and accuracy 0.750\n",
      "training loss:  0.30543157960027956\n",
      "valid loss 1.073 and accuracy 0.749\n",
      "training loss:  0.3053637114552823\n",
      "valid loss 1.065 and accuracy 0.751\n",
      "training loss:  0.30521339752916077\n",
      "valid loss 1.085 and accuracy 0.750\n",
      "training loss:  0.2994702089973916\n",
      "valid loss 1.090 and accuracy 0.748\n",
      "training loss:  0.30092521380953857\n",
      "valid loss 1.074 and accuracy 0.749\n",
      "training loss:  0.30129438132664055\n",
      "valid loss 1.106 and accuracy 0.749\n",
      "training loss:  0.3000174755657906\n",
      "valid loss 1.104 and accuracy 0.751\n",
      "training loss:  0.30076770353282856\n",
      "valid loss 1.107 and accuracy 0.750\n",
      "training loss:  0.3001978202701016\n",
      "valid loss 1.100 and accuracy 0.750\n",
      "training loss:  0.2988436830020857\n",
      "valid loss 1.119 and accuracy 0.750\n",
      "training loss:  0.30077923982690424\n",
      "valid loss 1.114 and accuracy 0.749\n",
      "training loss:  0.3001815802693195\n",
      "valid loss 1.114 and accuracy 0.751\n",
      "training loss:  0.2995866358050823\n",
      "valid loss 1.121 and accuracy 0.750\n",
      "training loss:  0.2974826169879807\n",
      "valid loss 1.133 and accuracy 0.750\n",
      "training loss:  0.29508522823775485\n",
      "valid loss 1.147 and accuracy 0.749\n",
      "training loss:  0.29529220727328326\n",
      "valid loss 1.121 and accuracy 0.750\n",
      "training loss:  0.2942199377471177\n",
      "valid loss 1.154 and accuracy 0.748\n",
      "training loss:  0.2905626320936406\n",
      "valid loss 1.154 and accuracy 0.748\n",
      "training loss:  0.2922525194443551\n",
      "valid loss 1.149 and accuracy 0.749\n",
      "training loss:  0.29436831949650527\n",
      "valid loss 1.159 and accuracy 0.749\n",
      "training loss:  0.29296986671982617\n",
      "valid loss 1.166 and accuracy 0.748\n",
      "training loss:  0.2905339897395671\n",
      "valid loss 1.189 and accuracy 0.750\n",
      "training loss:  0.2915838572226676\n",
      "valid loss 1.175 and accuracy 0.748\n",
      "training loss:  0.2903493696706349\n",
      "valid loss 1.194 and accuracy 0.749\n",
      "training loss:  0.28934964713940203\n",
      "valid loss 1.188 and accuracy 0.748\n",
      "training loss:  0.2917176960981368\n",
      "valid loss 1.197 and accuracy 0.749\n",
      "training loss:  0.29166870702912795\n",
      "valid loss 1.211 and accuracy 0.749\n",
      "training loss:  0.2890871732552617\n",
      "valid loss 1.190 and accuracy 0.749\n",
      "training loss:  0.2850997721334671\n",
      "valid loss 1.198 and accuracy 0.750\n",
      "training loss:  0.28683861920958587\n",
      "valid loss 1.209 and accuracy 0.749\n",
      "training loss:  0.29027623986039613\n",
      "valid loss 1.201 and accuracy 0.750\n",
      "training loss:  0.2853888265498273\n",
      "valid loss 1.210 and accuracy 0.750\n",
      "training loss:  0.2876321910062967\n",
      "valid loss 1.209 and accuracy 0.749\n",
      "training loss:  0.2852374754770838\n",
      "valid loss 1.196 and accuracy 0.748\n",
      "training loss:  0.2837011593502837\n",
      "valid loss 1.229 and accuracy 0.747\n",
      "training loss:  0.2853530479945375\n",
      "valid loss 1.196 and accuracy 0.748\n",
      "training loss:  0.2820871807079352\n",
      "valid loss 1.217 and accuracy 0.748\n",
      "training loss:  0.2829897073296872\n",
      "valid loss 1.192 and accuracy 0.750\n",
      "training loss:  0.28134987897859165\n",
      "valid loss 1.215 and accuracy 0.749\n"
     ]
    }
   ],
   "source": [
    "train_loop(model, epochs=100, lr=0.001, wd=0.00001)"
   ]
  },
  {
   "cell_type": "code",
   "execution_count": null,
   "metadata": {},
   "outputs": [],
   "source": []
  },
  {
   "cell_type": "code",
   "execution_count": null,
   "metadata": {},
   "outputs": [],
   "source": []
  },
  {
   "cell_type": "code",
   "execution_count": null,
   "metadata": {},
   "outputs": [],
   "source": []
  },
  {
   "cell_type": "code",
   "execution_count": null,
   "metadata": {},
   "outputs": [],
   "source": []
  },
  {
   "cell_type": "code",
   "execution_count": null,
   "metadata": {},
   "outputs": [],
   "source": []
  },
  {
   "cell_type": "code",
   "execution_count": null,
   "metadata": {},
   "outputs": [],
   "source": []
  },
  {
   "cell_type": "code",
   "execution_count": null,
   "metadata": {},
   "outputs": [],
   "source": []
  },
  {
   "cell_type": "code",
   "execution_count": null,
   "metadata": {},
   "outputs": [],
   "source": []
  }
 ],
 "metadata": {
  "kernelspec": {
   "display_name": "Python 3",
   "language": "python",
   "name": "python3"
  },
  "language_info": {
   "codemirror_mode": {
    "name": "ipython",
    "version": 3
   },
   "file_extension": ".py",
   "mimetype": "text/x-python",
   "name": "python",
   "nbconvert_exporter": "python",
   "pygments_lexer": "ipython3",
   "version": "3.6.9"
  },
  "toc": {
   "base_numbering": 1,
   "nav_menu": {},
   "number_sections": true,
   "sideBar": true,
   "skip_h1_title": true,
   "title_cell": "Table of Contents",
   "title_sidebar": "Contents",
   "toc_cell": true,
   "toc_position": {},
   "toc_section_display": true,
   "toc_window_display": false
  },
  "varInspector": {
   "cols": {
    "lenName": 16,
    "lenType": 16,
    "lenVar": 40
   },
   "kernels_config": {
    "python": {
     "delete_cmd_postfix": "",
     "delete_cmd_prefix": "del ",
     "library": "var_list.py",
     "varRefreshCmd": "print(var_dic_list())"
    },
    "r": {
     "delete_cmd_postfix": ") ",
     "delete_cmd_prefix": "rm(",
     "library": "var_list.r",
     "varRefreshCmd": "cat(var_dic_list()) "
    }
   },
   "types_to_exclude": [
    "module",
    "function",
    "builtin_function_or_method",
    "instance",
    "_Feature"
   ],
   "window_display": false
  }
 },
 "nbformat": 4,
 "nbformat_minor": 4
}
